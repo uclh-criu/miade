{
 "cells": [
  {
   "cell_type": "code",
   "execution_count": 1,
   "outputs": [
    {
     "name": "stderr",
     "output_type": "stream",
     "text": [
      "/home/james/repositories/miade/venv/lib/python3.8/site-packages/medcat/cat.py:18: TqdmExperimentalWarning: Using `tqdm.autonotebook.tqdm` in notebook mode. Use `tqdm.tqdm` instead to force console mode (e.g. in jupyter console)\n",
      "  from tqdm.autonotebook import tqdm, trange\n"
     ]
    }
   ],
   "source": [
    "from miade.model_builders.cdbbuilder import CDBBuilder\n",
    "from medcat.cat import CAT\n",
    "from medcat.cdb import CDB\n",
    "from pathlib import Path"
   ],
   "metadata": {
    "collapsed": false,
    "pycharm": {
     "name": "#%%\n"
    }
   }
  },
  {
   "cell_type": "code",
   "execution_count": 2,
   "outputs": [],
   "source": [
    "cdbbuilder = CDBBuilder(\n",
    "    temp_dir=(Path.cwd() / Path(\".temp\")),\n",
    "    custom_data_paths=[Path(\"/home/james/repositories/miade/data/snomed/preprocessed_condition_list.csv\")]\n",
    ")\n",
    "cdbbuilder.preprocess()"
   ],
   "metadata": {
    "collapsed": false,
    "pycharm": {
     "name": "#%%\n"
    }
   }
  },
  {
   "cell_type": "code",
   "execution_count": null,
   "outputs": [
    {
     "name": "stderr",
     "output_type": "stream",
     "text": [
      "Started importing concepts from: /home/james/repositories/miade/data/snomed/preprocessed_condition_list.csv\n",
      "Current progress: 0% at 0.000s per 5048 rows\n",
      "Current progress: 1% at 16.672s per 5048 rows\n",
      "Current progress: 2% at 16.192s per 5048 rows\n",
      "Current progress: 3% at 16.226s per 5048 rows\n",
      "Current progress: 4% at 16.611s per 5048 rows\n",
      "Current progress: 5% at 16.749s per 5048 rows\n",
      "Current progress: 6% at 16.188s per 5048 rows\n",
      "Current progress: 7% at 15.974s per 5048 rows\n",
      "Current progress: 8% at 16.276s per 5048 rows\n",
      "Current progress: 9% at 16.358s per 5048 rows\n",
      "Current progress: 10% at 16.322s per 5048 rows\n",
      "Current progress: 11% at 16.317s per 5048 rows\n",
      "Current progress: 12% at 16.199s per 5048 rows\n",
      "Current progress: 13% at 16.493s per 5048 rows\n",
      "Current progress: 14% at 16.444s per 5048 rows\n",
      "Current progress: 15% at 16.277s per 5048 rows\n",
      "Current progress: 16% at 16.236s per 5048 rows\n",
      "Current progress: 17% at 16.217s per 5048 rows\n",
      "Current progress: 18% at 16.887s per 5048 rows\n",
      "Current progress: 19% at 16.755s per 5048 rows\n",
      "Current progress: 20% at 16.468s per 5048 rows\n",
      "Current progress: 21% at 17.844s per 5048 rows\n",
      "Current progress: 22% at 17.200s per 5048 rows\n",
      "Current progress: 23% at 17.032s per 5048 rows\n",
      "Current progress: 24% at 17.702s per 5048 rows\n",
      "Current progress: 25% at 17.668s per 5048 rows\n",
      "Current progress: 26% at 17.717s per 5048 rows\n",
      "Current progress: 27% at 17.142s per 5048 rows\n",
      "Current progress: 28% at 19.065s per 5048 rows\n",
      "Current progress: 29% at 17.067s per 5048 rows\n"
     ]
    }
   ],
   "source": [
    "cdb = cdbbuilder.create_cdb()\n",
    "cdb.vocab"
   ],
   "metadata": {
    "collapsed": false,
    "pycharm": {
     "name": "#%%\n",
     "is_executing": true
    }
   }
  }
 ],
 "metadata": {
  "kernelspec": {
   "display_name": "Python 3",
   "language": "python",
   "name": "python3"
  },
  "language_info": {
   "codemirror_mode": {
    "name": "ipython",
    "version": 2
   },
   "file_extension": ".py",
   "mimetype": "text/x-python",
   "name": "python",
   "nbconvert_exporter": "python",
   "pygments_lexer": "ipython2",
   "version": "2.7.6"
  }
 },
 "nbformat": 4,
 "nbformat_minor": 0
}