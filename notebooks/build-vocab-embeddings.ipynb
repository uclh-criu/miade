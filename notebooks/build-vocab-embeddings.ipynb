{
 "cells": [
  {
   "cell_type": "code",
   "execution_count": 1,
   "metadata": {
    "collapsed": true,
    "ExecuteTime": {
     "end_time": "2023-06-12T15:53:54.185588188Z",
     "start_time": "2023-06-12T15:53:50.091556800Z"
    }
   },
   "outputs": [
    {
     "name": "stderr",
     "output_type": "stream",
     "text": [
      "/home/james/repositories/MedCAT/medcat/pipe.py:11: TqdmExperimentalWarning: Using `tqdm.autonotebook.tqdm` in notebook mode. Use `tqdm.tqdm` instead to force console mode (e.g. in jupyter console)\n",
      "  from tqdm.autonotebook import tqdm\n"
     ]
    }
   ],
   "source": [
    "from pathlib import Path\n",
    "\n",
    "from medcat.vocab import Vocab\n",
    "from medcat.cdb import CDB\n",
    "from medcat.config import Config\n",
    "from medcat.cdb_maker import CDBMaker\n",
    "from medcat.cat import CAT\n",
    "\n",
    "from medcat.utils.preprocess_wiki import clean_wiki\n",
    "from medcat.utils.make_vocab import MakeVocab"
   ]
  },
  {
   "cell_type": "markdown",
   "source": [
    "# Build a CDB to and embedding set"
   ],
   "metadata": {
    "collapsed": false
   }
  },
  {
   "cell_type": "markdown",
   "source": [
    "### Load wikipedia\n",
    "This step can take hours!"
   ],
   "metadata": {
    "collapsed": false
   }
  },
  {
   "cell_type": "code",
   "execution_count": 2,
   "outputs": [],
   "source": [
    "wiki = \"../data/enwiki-20230601-pages-articles-multistream.xml.bz2\"\n",
    "corpus = \"../data/wikipedia_corpus.txt\""
   ],
   "metadata": {
    "collapsed": false,
    "ExecuteTime": {
     "end_time": "2023-06-12T15:53:54.188983086Z",
     "start_time": "2023-06-12T15:53:54.187171110Z"
    }
   }
  },
  {
   "cell_type": "code",
   "execution_count": 3,
   "outputs": [],
   "source": [
    "#clean_wiki(wiki, corpus)"
   ],
   "metadata": {
    "collapsed": false,
    "ExecuteTime": {
     "end_time": "2023-06-12T15:53:54.238703326Z",
     "start_time": "2023-06-12T15:53:54.190125799Z"
    }
   }
  },
  {
   "cell_type": "markdown",
   "source": [
    "# Make a fresh vocab\n",
    "Generate a set of word embeddings from the corpus"
   ],
   "metadata": {
    "collapsed": false
   }
  },
  {
   "cell_type": "code",
   "execution_count": 4,
   "outputs": [],
   "source": [
    "def articles(file):\n",
    "    # Generator function to read wikipedia article by article, as it is too large to read into memory.\n",
    "    with Path(file).open() as file:\n",
    "        buf = \"\"\n",
    "        for line in file:\n",
    "            if line == \"\":\n",
    "                buf += file.readline() + \"\\n\"\n",
    "            else:\n",
    "                yield buf\n",
    "                buf = \"\"\n",
    "\n",
    "wiki_entries = articles(corpus)"
   ],
   "metadata": {
    "collapsed": false,
    "ExecuteTime": {
     "end_time": "2023-06-12T15:53:54.241740953Z",
     "start_time": "2023-06-12T15:53:54.239185292Z"
    }
   }
  },
  {
   "cell_type": "code",
   "execution_count": 5,
   "outputs": [],
   "source": [
    "vocab_maker = MakeVocab(Config())"
   ],
   "metadata": {
    "collapsed": false,
    "ExecuteTime": {
     "end_time": "2023-06-12T15:53:55.500015877Z",
     "start_time": "2023-06-12T15:53:54.245280713Z"
    }
   }
  },
  {
   "cell_type": "code",
   "execution_count": 6,
   "outputs": [],
   "source": [
    "vocab_maker.make(wiki_entries, \"/home/james/repositories/miade/data/wikipedia_vocab\")\n",
    "vocab_maker.add_vectors(\"/home/james/repositories/miade/data/wikipedia_vocab/data.txt\")\n",
    "vocab = vocab_maker.vocab\n",
    "vocab.make_unigram_table()\n",
    "vocab.save(\"/home/james/repositories/miade/data/wikipedia_vocab/vocab.dat\")"
   ],
   "metadata": {
    "collapsed": false,
    "ExecuteTime": {
     "end_time": "2023-06-12T15:54:59.905742522Z",
     "start_time": "2023-06-12T15:53:55.500398328Z"
    }
   }
  },
  {
   "cell_type": "markdown",
   "source": [
    "### Create a default \"maker\""
   ],
   "metadata": {
    "collapsed": false
   }
  },
  {
   "cell_type": "code",
   "execution_count": 7,
   "outputs": [],
   "source": [
    "config = Config()\n",
    "config.general['spacy_model'] = 'en_core_web_md'\n",
    "maker = CDBMaker(config)"
   ],
   "metadata": {
    "collapsed": false,
    "ExecuteTime": {
     "end_time": "2023-06-12T15:55:00.983612272Z",
     "start_time": "2023-06-12T15:54:59.946518005Z"
    }
   }
  },
  {
   "cell_type": "code",
   "execution_count": 8,
   "outputs": [],
   "source": [
    "#vocab.vocab"
   ],
   "metadata": {
    "collapsed": false,
    "ExecuteTime": {
     "end_time": "2023-06-12T15:55:00.986356873Z",
     "start_time": "2023-06-12T15:55:00.984760955Z"
    }
   }
  },
  {
   "cell_type": "code",
   "execution_count": 8,
   "outputs": [],
   "source": [],
   "metadata": {
    "collapsed": false,
    "ExecuteTime": {
     "end_time": "2023-06-12T15:55:00.988253412Z",
     "start_time": "2023-06-12T15:55:00.986600610Z"
    }
   }
  }
 ],
 "metadata": {
  "kernelspec": {
   "display_name": "Python 3",
   "language": "python",
   "name": "python3"
  },
  "language_info": {
   "codemirror_mode": {
    "name": "ipython",
    "version": 2
   },
   "file_extension": ".py",
   "mimetype": "text/x-python",
   "name": "python",
   "nbconvert_exporter": "python",
   "pygments_lexer": "ipython2",
   "version": "2.7.6"
  }
 },
 "nbformat": 4,
 "nbformat_minor": 0
}
