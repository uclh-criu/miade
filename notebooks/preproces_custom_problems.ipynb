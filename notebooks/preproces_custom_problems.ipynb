{
 "cells": [
  {
   "cell_type": "markdown",
   "source": [
    "# Preprocessing Custom Problems"
   ],
   "metadata": {
    "collapsed": false,
    "pycharm": {
     "name": "#%% md\n"
    }
   }
  },
  {
   "cell_type": "code",
   "execution_count": 45,
   "outputs": [],
   "source": [
    "import pandas as pd"
   ],
   "metadata": {
    "collapsed": false,
    "pycharm": {
     "name": "#%%\n"
    }
   }
  },
  {
   "cell_type": "code",
   "execution_count": 46,
   "outputs": [
    {
     "data": {
      "text/plain": "                       cui                                               term\n0                   109006       anxiety disorder of childhood or adolescence\n1                   122003                               choroidal hemorrhage\n2                   122003                              choroidal haemorrhage\n3                   122003                               hemorrhage choroidal\n4                   122003                              haemorrhage choroidal\n...                    ...                                                ...\n504865  969688801000119108                acute left-sided ulcerative colitis\n504866  969688801000119108                acute left sided ulcerative colitis\n504867  971918681000119107  chronic respiratory failure due to obstructive...\n504868  971918681000119107  chronic respiratory failure due to obstructive...\n504869  978253001000132109                     small bowel enteroscopy normal\n\n[504870 rows x 2 columns]",
      "text/html": "<div>\n<style scoped>\n    .dataframe tbody tr th:only-of-type {\n        vertical-align: middle;\n    }\n\n    .dataframe tbody tr th {\n        vertical-align: top;\n    }\n\n    .dataframe thead th {\n        text-align: right;\n    }\n</style>\n<table border=\"1\" class=\"dataframe\">\n  <thead>\n    <tr style=\"text-align: right;\">\n      <th></th>\n      <th>cui</th>\n      <th>term</th>\n    </tr>\n  </thead>\n  <tbody>\n    <tr>\n      <th>0</th>\n      <td>109006</td>\n      <td>anxiety disorder of childhood or adolescence</td>\n    </tr>\n    <tr>\n      <th>1</th>\n      <td>122003</td>\n      <td>choroidal hemorrhage</td>\n    </tr>\n    <tr>\n      <th>2</th>\n      <td>122003</td>\n      <td>choroidal haemorrhage</td>\n    </tr>\n    <tr>\n      <th>3</th>\n      <td>122003</td>\n      <td>hemorrhage choroidal</td>\n    </tr>\n    <tr>\n      <th>4</th>\n      <td>122003</td>\n      <td>haemorrhage choroidal</td>\n    </tr>\n    <tr>\n      <th>...</th>\n      <td>...</td>\n      <td>...</td>\n    </tr>\n    <tr>\n      <th>504865</th>\n      <td>969688801000119108</td>\n      <td>acute left-sided ulcerative colitis</td>\n    </tr>\n    <tr>\n      <th>504866</th>\n      <td>969688801000119108</td>\n      <td>acute left sided ulcerative colitis</td>\n    </tr>\n    <tr>\n      <th>504867</th>\n      <td>971918681000119107</td>\n      <td>chronic respiratory failure due to obstructive...</td>\n    </tr>\n    <tr>\n      <th>504868</th>\n      <td>971918681000119107</td>\n      <td>chronic respiratory failure due to obstructive...</td>\n    </tr>\n    <tr>\n      <th>504869</th>\n      <td>978253001000132109</td>\n      <td>small bowel enteroscopy normal</td>\n    </tr>\n  </tbody>\n</table>\n<p>504870 rows × 2 columns</p>\n</div>"
     },
     "execution_count": 46,
     "metadata": {},
     "output_type": "execute_result"
    }
   ],
   "source": [
    "condition_list = pd.read_csv(\"/home/james/repositories/miade/data/snomed/full_condition_list.csv\")\n",
    "condition_list"
   ],
   "metadata": {
    "collapsed": false,
    "pycharm": {
     "name": "#%%\n"
    }
   }
  },
  {
   "cell_type": "code",
   "execution_count": 47,
   "outputs": [
    {
     "data": {
      "text/plain": "                           cui  \\\n0                   SNO-109006   \n1                   SNO-122003   \n2                   SNO-122003   \n3                   SNO-122003   \n4                   SNO-122003   \n...                        ...   \n504865  SNO-969688801000119108   \n504866  SNO-969688801000119108   \n504867  SNO-971918681000119107   \n504868  SNO-971918681000119107   \n504869  SNO-978253001000132109   \n\n                                                     term  \n0            anxiety disorder of childhood or adolescence  \n1                                    choroidal hemorrhage  \n2                                   choroidal haemorrhage  \n3                                    hemorrhage choroidal  \n4                                   haemorrhage choroidal  \n...                                                   ...  \n504865                acute left-sided ulcerative colitis  \n504866                acute left sided ulcerative colitis  \n504867  chronic respiratory failure due to obstructive...  \n504868  chronic respiratory failure due to obstructive...  \n504869                     small bowel enteroscopy normal  \n\n[504870 rows x 2 columns]",
      "text/html": "<div>\n<style scoped>\n    .dataframe tbody tr th:only-of-type {\n        vertical-align: middle;\n    }\n\n    .dataframe tbody tr th {\n        vertical-align: top;\n    }\n\n    .dataframe thead th {\n        text-align: right;\n    }\n</style>\n<table border=\"1\" class=\"dataframe\">\n  <thead>\n    <tr style=\"text-align: right;\">\n      <th></th>\n      <th>cui</th>\n      <th>term</th>\n    </tr>\n  </thead>\n  <tbody>\n    <tr>\n      <th>0</th>\n      <td>SNO-109006</td>\n      <td>anxiety disorder of childhood or adolescence</td>\n    </tr>\n    <tr>\n      <th>1</th>\n      <td>SNO-122003</td>\n      <td>choroidal hemorrhage</td>\n    </tr>\n    <tr>\n      <th>2</th>\n      <td>SNO-122003</td>\n      <td>choroidal haemorrhage</td>\n    </tr>\n    <tr>\n      <th>3</th>\n      <td>SNO-122003</td>\n      <td>hemorrhage choroidal</td>\n    </tr>\n    <tr>\n      <th>4</th>\n      <td>SNO-122003</td>\n      <td>haemorrhage choroidal</td>\n    </tr>\n    <tr>\n      <th>...</th>\n      <td>...</td>\n      <td>...</td>\n    </tr>\n    <tr>\n      <th>504865</th>\n      <td>SNO-969688801000119108</td>\n      <td>acute left-sided ulcerative colitis</td>\n    </tr>\n    <tr>\n      <th>504866</th>\n      <td>SNO-969688801000119108</td>\n      <td>acute left sided ulcerative colitis</td>\n    </tr>\n    <tr>\n      <th>504867</th>\n      <td>SNO-971918681000119107</td>\n      <td>chronic respiratory failure due to obstructive...</td>\n    </tr>\n    <tr>\n      <th>504868</th>\n      <td>SNO-971918681000119107</td>\n      <td>chronic respiratory failure due to obstructive...</td>\n    </tr>\n    <tr>\n      <th>504869</th>\n      <td>SNO-978253001000132109</td>\n      <td>small bowel enteroscopy normal</td>\n    </tr>\n  </tbody>\n</table>\n<p>504870 rows × 2 columns</p>\n</div>"
     },
     "execution_count": 47,
     "metadata": {},
     "output_type": "execute_result"
    }
   ],
   "source": [
    "condition_list[\"cui\"] = condition_list.cui.apply(lambda x: f\"SNO-{x}\")\n",
    "condition_list"
   ],
   "metadata": {
    "collapsed": false,
    "pycharm": {
     "name": "#%%\n"
    }
   }
  },
  {
   "cell_type": "code",
   "execution_count": 48,
   "outputs": [
    {
     "data": {
      "text/plain": "                           cui  \\\n0                   SNO-109006   \n1                   SNO-122003   \n2                   SNO-122003   \n3                   SNO-122003   \n4                   SNO-122003   \n...                        ...   \n504865  SNO-969688801000119108   \n504866  SNO-969688801000119108   \n504867  SNO-971918681000119107   \n504868  SNO-971918681000119107   \n504869  SNO-978253001000132109   \n\n                                                     name ontologies  \\\n0            anxiety disorder of childhood or adolescence        SNO   \n1                                    choroidal hemorrhage        SNO   \n2                                   choroidal haemorrhage        SNO   \n3                                    hemorrhage choroidal        SNO   \n4                                   haemorrhage choroidal        SNO   \n...                                                   ...        ...   \n504865                acute left-sided ulcerative colitis        SNO   \n504866                acute left sided ulcerative colitis        SNO   \n504867  chronic respiratory failure due to obstructive...        SNO   \n504868  chronic respiratory failure due to obstructive...        SNO   \n504869                     small bowel enteroscopy normal        SNO   \n\n       name_status  \n0                P  \n1                P  \n2                P  \n3                P  \n4                P  \n...            ...  \n504865           P  \n504866           P  \n504867           P  \n504868           P  \n504869           P  \n\n[504870 rows x 4 columns]",
      "text/html": "<div>\n<style scoped>\n    .dataframe tbody tr th:only-of-type {\n        vertical-align: middle;\n    }\n\n    .dataframe tbody tr th {\n        vertical-align: top;\n    }\n\n    .dataframe thead th {\n        text-align: right;\n    }\n</style>\n<table border=\"1\" class=\"dataframe\">\n  <thead>\n    <tr style=\"text-align: right;\">\n      <th></th>\n      <th>cui</th>\n      <th>name</th>\n      <th>ontologies</th>\n      <th>name_status</th>\n    </tr>\n  </thead>\n  <tbody>\n    <tr>\n      <th>0</th>\n      <td>SNO-109006</td>\n      <td>anxiety disorder of childhood or adolescence</td>\n      <td>SNO</td>\n      <td>P</td>\n    </tr>\n    <tr>\n      <th>1</th>\n      <td>SNO-122003</td>\n      <td>choroidal hemorrhage</td>\n      <td>SNO</td>\n      <td>P</td>\n    </tr>\n    <tr>\n      <th>2</th>\n      <td>SNO-122003</td>\n      <td>choroidal haemorrhage</td>\n      <td>SNO</td>\n      <td>P</td>\n    </tr>\n    <tr>\n      <th>3</th>\n      <td>SNO-122003</td>\n      <td>hemorrhage choroidal</td>\n      <td>SNO</td>\n      <td>P</td>\n    </tr>\n    <tr>\n      <th>4</th>\n      <td>SNO-122003</td>\n      <td>haemorrhage choroidal</td>\n      <td>SNO</td>\n      <td>P</td>\n    </tr>\n    <tr>\n      <th>...</th>\n      <td>...</td>\n      <td>...</td>\n      <td>...</td>\n      <td>...</td>\n    </tr>\n    <tr>\n      <th>504865</th>\n      <td>SNO-969688801000119108</td>\n      <td>acute left-sided ulcerative colitis</td>\n      <td>SNO</td>\n      <td>P</td>\n    </tr>\n    <tr>\n      <th>504866</th>\n      <td>SNO-969688801000119108</td>\n      <td>acute left sided ulcerative colitis</td>\n      <td>SNO</td>\n      <td>P</td>\n    </tr>\n    <tr>\n      <th>504867</th>\n      <td>SNO-971918681000119107</td>\n      <td>chronic respiratory failure due to obstructive...</td>\n      <td>SNO</td>\n      <td>P</td>\n    </tr>\n    <tr>\n      <th>504868</th>\n      <td>SNO-971918681000119107</td>\n      <td>chronic respiratory failure due to obstructive...</td>\n      <td>SNO</td>\n      <td>P</td>\n    </tr>\n    <tr>\n      <th>504869</th>\n      <td>SNO-978253001000132109</td>\n      <td>small bowel enteroscopy normal</td>\n      <td>SNO</td>\n      <td>P</td>\n    </tr>\n  </tbody>\n</table>\n<p>504870 rows × 4 columns</p>\n</div>"
     },
     "execution_count": 48,
     "metadata": {},
     "output_type": "execute_result"
    }
   ],
   "source": [
    "condition_list=condition_list.rename(columns={'term': 'name'})\n",
    "condition_list[\"ontologies\"] = \"SNO\"\n",
    "condition_list[\"name_status\"] = \"P\"\n",
    "condition_list"
   ],
   "metadata": {
    "collapsed": false,
    "pycharm": {
     "name": "#%%\n"
    }
   }
  },
  {
   "cell_type": "code",
   "execution_count": 49,
   "outputs": [
    {
     "data": {
      "text/plain": "                           cui  \\\n0                   SNO-109006   \n1                   SNO-122003   \n2                   SNO-122003   \n3                   SNO-122003   \n4                   SNO-122003   \n...                        ...   \n504865  SNO-969688801000119108   \n504866  SNO-969688801000119108   \n504867  SNO-971918681000119107   \n504868  SNO-971918681000119107   \n504869  SNO-978253001000132109   \n\n                                                     name ontologies  \\\n0            anxiety disorder of childhood or adolescence        SNO   \n1                                    choroidal hemorrhage        SNO   \n2                                   choroidal haemorrhage        SNO   \n3                                    hemorrhage choroidal        SNO   \n4                                   haemorrhage choroidal        SNO   \n...                                                   ...        ...   \n504865                acute left-sided ulcerative colitis        SNO   \n504866                acute left sided ulcerative colitis        SNO   \n504867  chronic respiratory failure due to obstructive...        SNO   \n504868  chronic respiratory failure due to obstructive...        SNO   \n504869                     small bowel enteroscopy normal        SNO   \n\n       name_status  \n0                P  \n1                P  \n2                N  \n3                N  \n4                N  \n...            ...  \n504865           P  \n504866           N  \n504867           P  \n504868           N  \n504869           P  \n\n[504870 rows x 4 columns]",
      "text/html": "<div>\n<style scoped>\n    .dataframe tbody tr th:only-of-type {\n        vertical-align: middle;\n    }\n\n    .dataframe tbody tr th {\n        vertical-align: top;\n    }\n\n    .dataframe thead th {\n        text-align: right;\n    }\n</style>\n<table border=\"1\" class=\"dataframe\">\n  <thead>\n    <tr style=\"text-align: right;\">\n      <th></th>\n      <th>cui</th>\n      <th>name</th>\n      <th>ontologies</th>\n      <th>name_status</th>\n    </tr>\n  </thead>\n  <tbody>\n    <tr>\n      <th>0</th>\n      <td>SNO-109006</td>\n      <td>anxiety disorder of childhood or adolescence</td>\n      <td>SNO</td>\n      <td>P</td>\n    </tr>\n    <tr>\n      <th>1</th>\n      <td>SNO-122003</td>\n      <td>choroidal hemorrhage</td>\n      <td>SNO</td>\n      <td>P</td>\n    </tr>\n    <tr>\n      <th>2</th>\n      <td>SNO-122003</td>\n      <td>choroidal haemorrhage</td>\n      <td>SNO</td>\n      <td>N</td>\n    </tr>\n    <tr>\n      <th>3</th>\n      <td>SNO-122003</td>\n      <td>hemorrhage choroidal</td>\n      <td>SNO</td>\n      <td>N</td>\n    </tr>\n    <tr>\n      <th>4</th>\n      <td>SNO-122003</td>\n      <td>haemorrhage choroidal</td>\n      <td>SNO</td>\n      <td>N</td>\n    </tr>\n    <tr>\n      <th>...</th>\n      <td>...</td>\n      <td>...</td>\n      <td>...</td>\n      <td>...</td>\n    </tr>\n    <tr>\n      <th>504865</th>\n      <td>SNO-969688801000119108</td>\n      <td>acute left-sided ulcerative colitis</td>\n      <td>SNO</td>\n      <td>P</td>\n    </tr>\n    <tr>\n      <th>504866</th>\n      <td>SNO-969688801000119108</td>\n      <td>acute left sided ulcerative colitis</td>\n      <td>SNO</td>\n      <td>N</td>\n    </tr>\n    <tr>\n      <th>504867</th>\n      <td>SNO-971918681000119107</td>\n      <td>chronic respiratory failure due to obstructive...</td>\n      <td>SNO</td>\n      <td>P</td>\n    </tr>\n    <tr>\n      <th>504868</th>\n      <td>SNO-971918681000119107</td>\n      <td>chronic respiratory failure due to obstructive...</td>\n      <td>SNO</td>\n      <td>N</td>\n    </tr>\n    <tr>\n      <th>504869</th>\n      <td>SNO-978253001000132109</td>\n      <td>small bowel enteroscopy normal</td>\n      <td>SNO</td>\n      <td>P</td>\n    </tr>\n  </tbody>\n</table>\n<p>504870 rows × 4 columns</p>\n</div>"
     },
     "execution_count": 49,
     "metadata": {},
     "output_type": "execute_result"
    }
   ],
   "source": [
    "prev_row_cui = ''\n",
    "for index, row in condition_list.iterrows():\n",
    "    row['name_status'] = ('N' if prev_row_cui == row['cui'] else 'P')\n",
    "    prev_row_cui = row['cui']\n",
    "condition_list"
   ],
   "metadata": {
    "collapsed": false,
    "pycharm": {
     "name": "#%%\n"
    }
   }
  },
  {
   "cell_type": "code",
   "execution_count": 50,
   "outputs": [],
   "source": [
    "condition_list.to_csv('preprocessed_condition_list.csv', index=False)"
   ],
   "metadata": {
    "collapsed": false,
    "pycharm": {
     "name": "#%%\n"
    }
   }
  }
 ],
 "metadata": {},
 "nbformat": 4,
 "nbformat_minor": 5
}